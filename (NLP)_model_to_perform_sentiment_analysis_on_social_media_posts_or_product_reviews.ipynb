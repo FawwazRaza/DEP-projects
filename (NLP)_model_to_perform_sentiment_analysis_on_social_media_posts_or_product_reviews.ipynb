{
  "nbformat": 4,
  "nbformat_minor": 0,
  "metadata": {
    "colab": {
      "provenance": []
    },
    "kernelspec": {
      "name": "python3",
      "display_name": "Python 3"
    },
    "language_info": {
      "name": "python"
    }
  },
  "cells": [
    {
      "cell_type": "code",
      "execution_count": null,
      "metadata": {
        "id": "xo9xsCsYUYet"
      },
      "outputs": [],
      "source": []
    },
    {
      "cell_type": "markdown",
      "source": [
        "# **Build a natural language processing (NLP) model to perform sentiment analysis on social media posts or product reviews..**"
      ],
      "metadata": {
        "id": "Z3ZpjW_eUaMV"
      }
    },
    {
      "cell_type": "code",
      "source": [
        "import numpy as np\n",
        "import pandas as pd\n",
        "import nltk\n",
        "from nltk.corpus import twitter_samples\n",
        "from nltk.tokenize import word_tokenize\n",
        "from nltk.stem import WordNetLemmatizer\n",
        "from sklearn.model_selection import train_test_split\n",
        "from sklearn.feature_extraction.text import TfidfVectorizer\n",
        "from sklearn.naive_bayes import MultinomialNB\n",
        "from sklearn.metrics import classification_report, confusion_matrix\n",
        "import re\n",
        "\n",
        "# Download necessary NLTK data\n",
        "print(\"Downloading necessary NLTK data...\")\n",
        "nltk.download('punkt')\n",
        "nltk.download('wordnet')\n",
        "nltk.download('stopwords')\n",
        "nltk.download('twitter_samples')\n",
        "\n",
        "# 1. Load the dataset\n",
        "print(\"Loading dataset...\")\n",
        "positive_tweets = twitter_samples.strings('positive_tweets.json')\n",
        "negative_tweets = twitter_samples.strings('negative_tweets.json')\n",
        "\n",
        "tweets = positive_tweets + negative_tweets\n",
        "labels = [1] * len(positive_tweets) + [0] * len(negative_tweets)\n",
        "\n",
        "# 2. Preprocess the text data\n",
        "print(\"Preprocessing text data...\")\n",
        "\n",
        "def preprocess_text(text):\n",
        "    # Convert to lowercase\n",
        "    text = text.lower()\n",
        "\n",
        "    # Remove URLs\n",
        "    text = re.sub(r'http\\S+|www\\S+|https\\S+', '', text, flags=re.MULTILINE)\n",
        "\n",
        "    # Remove user @ references and '#' from tweet\n",
        "    text = re.sub(r'\\@\\w+|\\#', '', text)\n",
        "\n",
        "    # Remove special characters and digits\n",
        "    text = re.sub(r'[^a-zA-Z\\s]', '', text)\n",
        "\n",
        "    # Tokenize the text\n",
        "    tokens = word_tokenize(text)\n",
        "\n",
        "    # Remove stopwords\n",
        "    stop_words = set(nltk.corpus.stopwords.words('english'))\n",
        "    tokens = [token for token in tokens if token not in stop_words]\n",
        "\n",
        "    # Lemmatize the tokens\n",
        "    lemmatizer = WordNetLemmatizer()\n",
        "    tokens = [lemmatizer.lemmatize(token) for token in tokens]\n",
        "\n",
        "    return ' '.join(tokens)\n",
        "\n",
        "X_clean = [preprocess_text(tweet) for tweet in tweets]\n",
        "\n",
        "# 3. Split the data into training and testing sets\n",
        "X_train, X_test, y_train, y_test = train_test_split(X_clean, labels, test_size=0.2, random_state=42)\n",
        "\n",
        "# 4. Convert text to numerical features using TF-IDF\n",
        "print(\"Vectorizing text data...\")\n",
        "vectorizer = TfidfVectorizer(max_features=5000)\n",
        "X_train_vectorized = vectorizer.fit_transform(X_train)\n",
        "X_test_vectorized = vectorizer.transform(X_test)\n",
        "\n",
        "# 5. Train a Naive Bayes classifier\n",
        "print(\"Training the model...\")\n",
        "classifier = MultinomialNB()\n",
        "classifier.fit(X_train_vectorized, y_train)\n",
        "\n",
        "# 6. Make predictions on the test set\n",
        "print(\"Making predictions...\")\n",
        "y_pred = classifier.predict(X_test_vectorized)\n",
        "\n",
        "# 7. Evaluate the model\n",
        "print(\"Evaluating the model...\")\n",
        "print(confusion_matrix(y_test, y_pred))\n",
        "print(classification_report(y_test, y_pred))\n",
        "\n",
        "# 8. Function to predict sentiment of new text\n",
        "def predict_sentiment(text):\n",
        "    cleaned_text = preprocess_text(text)\n",
        "    vectorized_text = vectorizer.transform([cleaned_text])\n",
        "    prediction = classifier.predict(vectorized_text)\n",
        "    return \"Positive\" if prediction[0] == 1 else \"Negative\"\n",
        "\n",
        "# 9. Test the model with some example tweets\n",
        "print(\"\\nTesting the model with example tweets:\")\n",
        "positive_tweet = \"I love this new product! It's amazing and works perfectly.\"\n",
        "negative_tweet = \"This service is terrible. I've had nothing but problems since day one.\"\n",
        "\n",
        "print(f\"Positive tweet sentiment: {predict_sentiment(positive_tweet)}\")\n",
        "print(f\"Negative tweet sentiment: {predict_sentiment(negative_tweet)}\")"
      ],
      "metadata": {
        "colab": {
          "base_uri": "https://localhost:8080/"
        },
        "id": "34o2i-ISUktR",
        "outputId": "6b2f0d4c-da16-4ae0-ea33-0d5d1cfb6ece"
      },
      "execution_count": 3,
      "outputs": [
        {
          "output_type": "stream",
          "name": "stdout",
          "text": [
            "Downloading necessary NLTK data...\n"
          ]
        },
        {
          "output_type": "stream",
          "name": "stderr",
          "text": [
            "[nltk_data] Downloading package punkt to /root/nltk_data...\n",
            "[nltk_data]   Package punkt is already up-to-date!\n",
            "[nltk_data] Downloading package wordnet to /root/nltk_data...\n",
            "[nltk_data]   Package wordnet is already up-to-date!\n",
            "[nltk_data] Downloading package stopwords to /root/nltk_data...\n",
            "[nltk_data]   Package stopwords is already up-to-date!\n",
            "[nltk_data] Downloading package twitter_samples to /root/nltk_data...\n",
            "[nltk_data]   Unzipping corpora/twitter_samples.zip.\n"
          ]
        },
        {
          "output_type": "stream",
          "name": "stdout",
          "text": [
            "Loading dataset...\n",
            "Preprocessing text data...\n",
            "Vectorizing text data...\n",
            "Training the model...\n",
            "Making predictions...\n",
            "Evaluating the model...\n",
            "[[785 203]\n",
            " [285 727]]\n",
            "              precision    recall  f1-score   support\n",
            "\n",
            "           0       0.73      0.79      0.76       988\n",
            "           1       0.78      0.72      0.75      1012\n",
            "\n",
            "    accuracy                           0.76      2000\n",
            "   macro avg       0.76      0.76      0.76      2000\n",
            "weighted avg       0.76      0.76      0.76      2000\n",
            "\n",
            "\n",
            "Testing the model with example tweets:\n",
            "Positive tweet sentiment: Positive\n",
            "Negative tweet sentiment: Negative\n"
          ]
        }
      ]
    },
    {
      "cell_type": "code",
      "source": [],
      "metadata": {
        "id": "HJ16wo1_UoXq"
      },
      "execution_count": null,
      "outputs": []
    }
  ]
}